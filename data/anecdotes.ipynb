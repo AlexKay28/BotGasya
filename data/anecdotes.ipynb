{
 "cells": [
  {
   "cell_type": "code",
   "execution_count": 22,
   "metadata": {},
   "outputs": [],
   "source": [
    "import pandas as pd"
   ]
  },
  {
   "cell_type": "code",
   "execution_count": 23,
   "metadata": {},
   "outputs": [],
   "source": [
    "lines = []\n",
    "with open(\"linnik.txt\", encoding=\"windows-1251\") as f:\n",
    "    for line in f:\n",
    "        lines.append(line)"
   ]
  },
  {
   "cell_type": "code",
   "execution_count": 25,
   "metadata": {},
   "outputs": [],
   "source": [
    "anecdotes = pd.DataFrame({\n",
    "    \"text\": \" \".join([l.replace(\"\\n\", \" \") if l != \"\\n\" else \"<SEP>\" for l in lines[4:]]).split(\"<SEP>\")\n",
    "})"
   ]
  },
  {
   "cell_type": "code",
   "execution_count": 35,
   "metadata": {},
   "outputs": [],
   "source": [
    "anecdotes = anecdotes[anecdotes.text.apply(lambda x: len(x) > 20)]"
   ]
  },
  {
   "cell_type": "code",
   "execution_count": 42,
   "metadata": {},
   "outputs": [],
   "source": [
    "anecdotes.to_csv(\"anecdotes.csv\", index=False)"
   ]
  },
  {
   "cell_type": "code",
   "execution_count": 54,
   "metadata": {},
   "outputs": [
    {
     "data": {
      "text/plain": [
       "'Поймал мужик золотую рыбку.     Рыбка:     - Отпусти меня,  я твое любое желание выполню!     - Ладно,  сделай так, чтоб я водкой мочился.     - Будь по-твоему.     Пришел мужике  домой,   помочился в стакан, понюхал  - водка, выпил - вод-  ка. Обрадовался,  выпил еще стаканчик.     Приходит к нему приятель.     - Ты чего делаешь?     - В-о-дку пью.     - А где достал?     Ну, тот ему все и рассказал.     - Так налей и мне стаканчик,- обрадовался приятель.     Стал ему  мужик  наливать,  да руки дрожат, все мимо стакана льет.     - Эй,  ты зачем разливаешь, давай я лучше с горла!'"
      ]
     },
     "execution_count": 54,
     "metadata": {},
     "output_type": "execute_result"
    }
   ],
   "source": [
    "anecdotes.sample(1).text.to_list()[0].strip()"
   ]
  },
  {
   "cell_type": "code",
   "execution_count": 55,
   "metadata": {},
   "outputs": [
    {
     "data": {
      "text/html": [
       "<div>\n",
       "<style scoped>\n",
       "    .dataframe tbody tr th:only-of-type {\n",
       "        vertical-align: middle;\n",
       "    }\n",
       "\n",
       "    .dataframe tbody tr th {\n",
       "        vertical-align: top;\n",
       "    }\n",
       "\n",
       "    .dataframe thead th {\n",
       "        text-align: right;\n",
       "    }\n",
       "</style>\n",
       "<table border=\"1\" class=\"dataframe\">\n",
       "  <thead>\n",
       "    <tr style=\"text-align: right;\">\n",
       "      <th></th>\n",
       "      <th>text</th>\n",
       "    </tr>\n",
       "  </thead>\n",
       "  <tbody>\n",
       "    <tr>\n",
       "      <th>0</th>\n",
       "      <td>Вечер,дождь. Английский джентельмен сидит у ка...</td>\n",
       "    </tr>\n",
       "    <tr>\n",
       "      <th>1</th>\n",
       "      <td>Чапай поступает в институт и провливает экзам...</td>\n",
       "    </tr>\n",
       "    <tr>\n",
       "      <th>2</th>\n",
       "      <td>Похороны. Друг - Родственнику:  - Кого хорон...</td>\n",
       "    </tr>\n",
       "    <tr>\n",
       "      <th>3</th>\n",
       "      <td>Приходит Луначарский к Ленину:   - Ильич, на...</td>\n",
       "    </tr>\n",
       "    <tr>\n",
       "      <th>4</th>\n",
       "      <td>Плeмянник: \"Блaгoдapю вac, тeтушкa, зa пoдap...</td>\n",
       "    </tr>\n",
       "    <tr>\n",
       "      <th>...</th>\n",
       "      <td>...</td>\n",
       "    </tr>\n",
       "    <tr>\n",
       "      <th>9487</th>\n",
       "      <td>\"Так больше не может продолжатся.  Hужно...</td>\n",
       "    </tr>\n",
       "    <tr>\n",
       "      <th>9489</th>\n",
       "      <td>Как все таки хорошо иметь настоящего дру...</td>\n",
       "    </tr>\n",
       "    <tr>\n",
       "      <th>9491</th>\n",
       "      <td>И какого ляда мы выбрали этого Тетриса в...</td>\n",
       "    </tr>\n",
       "    <tr>\n",
       "      <th>9493</th>\n",
       "      <td>Плохие новости.  - сообщил командир Hорт...</td>\n",
       "    </tr>\n",
       "    <tr>\n",
       "      <th>9495</th>\n",
       "      <td>- Эй,  Клиппер, я слышал тебе на пенсию ...</td>\n",
       "    </tr>\n",
       "  </tbody>\n",
       "</table>\n",
       "<p>4803 rows × 1 columns</p>\n",
       "</div>"
      ],
      "text/plain": [
       "                                                   text\n",
       "0     Вечер,дождь. Английский джентельмен сидит у ка...\n",
       "1      Чапай поступает в институт и провливает экзам...\n",
       "2       Похороны. Друг - Родственнику:  - Кого хорон...\n",
       "3       Приходит Луначарский к Ленину:   - Ильич, на...\n",
       "4       Плeмянник: \"Блaгoдapю вac, тeтушкa, зa пoдap...\n",
       "...                                                 ...\n",
       "9487        \"Так больше не может продолжатся.  Hужно...\n",
       "9489        Как все таки хорошо иметь настоящего дру...\n",
       "9491        И какого ляда мы выбрали этого Тетриса в...\n",
       "9493        Плохие новости.  - сообщил командир Hорт...\n",
       "9495        - Эй,  Клиппер, я слышал тебе на пенсию ...\n",
       "\n",
       "[4803 rows x 1 columns]"
      ]
     },
     "execution_count": 55,
     "metadata": {},
     "output_type": "execute_result"
    }
   ],
   "source": [
    "anecdotes"
   ]
  },
  {
   "cell_type": "code",
   "execution_count": null,
   "metadata": {},
   "outputs": [],
   "source": []
  }
 ],
 "metadata": {
  "kernelspec": {
   "display_name": "Python 3",
   "language": "python",
   "name": "python3"
  },
  "language_info": {
   "codemirror_mode": {
    "name": "ipython",
    "version": 3
   },
   "file_extension": ".py",
   "mimetype": "text/x-python",
   "name": "python",
   "nbconvert_exporter": "python",
   "pygments_lexer": "ipython3",
   "version": "3.6.8"
  }
 },
 "nbformat": 4,
 "nbformat_minor": 4
}
